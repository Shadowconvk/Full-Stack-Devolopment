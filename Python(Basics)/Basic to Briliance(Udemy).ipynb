{
 "cells": [
  {
   "cell_type": "markdown",
   "metadata": {},
   "source": [
    "# Using our first code in Python\n",
    "- open the terminal in windows and type Python 3 and press enter\n",
    "- now type :      print(\"Hello World\")"
   ]
  },
  {
   "cell_type": "markdown",
   "metadata": {},
   "source": [
    "# Downloading text editor \n",
    "- text editor named \"Brackets\" for programming in Python "
   ]
  },
  {
   "cell_type": "markdown",
   "metadata": {},
   "source": [
    "Python is an interpreted language and does not need to be compilated like \n",
    "other programming languages"
   ]
  },
  {
   "cell_type": "markdown",
   "metadata": {},
   "source": [
    "python is an object oriented language thus everything is an object in python and we dont need to \n",
    "specify the data type in python unlike other programming languages"
   ]
  },
  {
   "cell_type": "code",
   "execution_count": null,
   "metadata": {},
   "outputs": [],
   "source": [
    "# ------------Using python as calculater----------------------- \n",
    "- + addition\n",
    "- - substraction\n",
    "- * multiplication  \n",
    "- ** Power of \n",
    "- / division returns the float value (decimal)\n",
    "- // division returing the integer without decimals\n",
    "- = equal to (used to create variables)\n",
    "- == equates to (used to compare the value)"
   ]
  },
  {
   "cell_type": "code",
   "execution_count": 4,
   "metadata": {},
   "outputs": [
    {
     "data": {
      "text/plain": [
       "-1"
      ]
     },
     "execution_count": 4,
     "metadata": {},
     "output_type": "execute_result"
    }
   ],
   "source": [
    "8 + 148237\n"
   ]
  },
  {
   "cell_type": "code",
   "execution_count": 10,
   "metadata": {},
   "outputs": [
    {
     "data": {
      "text/plain": [
       "0"
      ]
     },
     "execution_count": 10,
     "metadata": {},
     "output_type": "execute_result"
    }
   ],
   "source": [
    "346-346"
   ]
  },
  {
   "cell_type": "code",
   "execution_count": 7,
   "metadata": {},
   "outputs": [
    {
     "data": {
      "text/plain": [
       "21"
      ]
     },
     "execution_count": 7,
     "metadata": {},
     "output_type": "execute_result"
    }
   ],
   "source": [
    "7*3"
   ]
  },
  {
   "cell_type": "code",
   "execution_count": 8,
   "metadata": {},
   "outputs": [
    {
     "data": {
      "text/plain": [
       "343"
      ]
     },
     "execution_count": 8,
     "metadata": {},
     "output_type": "execute_result"
    }
   ],
   "source": [
    "7**3"
   ]
  },
  {
   "cell_type": "code",
   "execution_count": 6,
   "metadata": {},
   "outputs": [
    {
     "data": {
      "text/plain": [
       "0.3333333333333333"
      ]
     },
     "execution_count": 6,
     "metadata": {},
     "output_type": "execute_result"
    }
   ],
   "source": [
    "2/6"
   ]
  },
  {
   "cell_type": "code",
   "execution_count": 9,
   "metadata": {},
   "outputs": [
    {
     "data": {
      "text/plain": [
       "0"
      ]
     },
     "execution_count": 9,
     "metadata": {},
     "output_type": "execute_result"
    }
   ],
   "source": [
    "2//6"
   ]
  },
  {
   "cell_type": "code",
   "execution_count": null,
   "metadata": {},
   "outputs": [],
   "source": [
    "# this is just a comment and anything after the #symbol is not excuted by interpreter"
   ]
  },
  {
   "cell_type": "code",
   "execution_count": 12,
   "metadata": {},
   "outputs": [
    {
     "name": "stdout",
     "output_type": "stream",
     "text": [
      "50 <class 'int'>\n"
     ]
    }
   ],
   "source": [
    "# creating Variables\n",
    "q = 5 # here the data type is integer\n",
    "w = \"hello\" # here the data type is a string\n",
    "r = 10\n",
    "print(q*r, type(q*r))"
   ]
  },
  {
   "cell_type": "code",
   "execution_count": null,
   "metadata": {},
   "outputs": [],
   "source": [
    "# Running python files using terminal\n",
    "# open terminal and change the directory to where the python file belongs \n",
    "# then type \"python ./filename.extention\""
   ]
  },
  {
   "cell_type": "markdown",
   "metadata": {},
   "source": [
    "# syntax\n",
    "- syntax is as important as grammar in english without which the code is meaningless and cannot be excuted and leads to an error called syntax error"
   ]
  },
  {
   "cell_type": "code",
   "execution_count": 14,
   "metadata": {},
   "outputs": [
    {
     "name": "stdout",
     "output_type": "stream",
     "text": [
      "0\n",
      "1\n",
      "2\n",
      "3\n",
      "4\n",
      "5\n"
     ]
    }
   ],
   "source": [
    "# example for a syntax of 'for loop'\n",
    "for whatever in range(6):\n",
    "    print(whatever)"
   ]
  },
  {
   "cell_type": "code",
   "execution_count": 2,
   "metadata": {},
   "outputs": [
    {
     "name": "stdout",
     "output_type": "stream",
     "text": [
      "positive number\n"
     ]
    }
   ],
   "source": [
    "# just follow the syntax for if else statement\n",
    "num = 45\n",
    "if num <= 0:\n",
    "    print(\"Negitive number\")\n",
    "else:\n",
    "    print(\"positive number\")"
   ]
  },
  {
   "cell_type": "code",
   "execution_count": 6,
   "metadata": {},
   "outputs": [
    {
     "name": "stdout",
     "output_type": "stream",
     "text": [
      "whatever <class 'str'>\n",
      "whatever i love learning new things\n"
     ]
    }
   ],
   "source": [
    "# string operations\n",
    "string = \"whatever\"\n",
    "print(string, type(string))\n",
    "string2 = \" i love learning new things\"\n",
    "print(string+string2)"
   ]
  },
  {
   "cell_type": "code",
   "execution_count": 8,
   "metadata": {},
   "outputs": [
    {
     "name": "stdout",
     "output_type": "stream",
     "text": [
      "True False\n",
      "True True False False\n"
     ]
    }
   ],
   "source": [
    "# boolean values which means it can either be true or false\n",
    "# In programming languages we use 1 as true and 0 as false\n",
    "# both True and False must be incapital letters\n",
    "# we also have not True which means and not False \n",
    "a = True\n",
    "b = False\n",
    "print(a,b)\n",
    "c = not True\n",
    "d = not False \n",
    "print(a,d,c,b)"
   ]
  },
  {
   "cell_type": "code",
   "execution_count": 18,
   "metadata": {},
   "outputs": [
    {
     "name": "stdout",
     "output_type": "stream",
     "text": [
      "yup it works\n",
      "yes\n",
      "not in the list\n"
     ]
    }
   ],
   "source": [
    "# In operator is used to check if specific object or variable exists within the list of variables\n",
    "g = \"lskdhgl\"\n",
    "if g in[\"lskdhgl\",\"gwetyo\",\"oweyt\"]:\n",
    "    print(\"yup it works\")\n",
    "# here if is used as a condition to return the print value\n",
    "d = \"cat\"\n",
    "if d in[\"cat\"]:\n",
    "    print(\"yes\")\n",
    "else:\n",
    "    print(\"no\")\n",
    "c = \"cat\"\n",
    "if c not in[\"dog\"]:\n",
    "    print(\"not in the list\")\n",
    "else:\n",
    "    print (\"you are right\")"
   ]
  },
  {
   "cell_type": "code",
   "execution_count": 34,
   "metadata": {},
   "outputs": [
    {
     "name": "stdout",
     "output_type": "stream",
     "text": [
      "whats your name ?g\n",
      "nice to meet you Mr. g\n",
      "now what's your age ?6\n",
      "you seem to be a grown up man mr. g\n",
      "Please write your adressr\n",
      "now that completes your form filling, thanks for the patience\n"
     ]
    }
   ],
   "source": [
    "#writing a simple programe form filling\n",
    "name = (str(input('whats your name ?')))\n",
    "print('nice to meet you Mr.',name)\n",
    "age = int(input(\"now what's your age ?\"))\n",
    "print(\"you seem to be a grown up man mr.\",name)\n",
    "adress = input(\"Please write your adress\")\n",
    "print(\"now that completes your form filling, thanks for the patience\")"
   ]
  },
  {
   "cell_type": "code",
   "execution_count": 37,
   "metadata": {},
   "outputs": [
    {
     "name": "stdout",
     "output_type": "stream",
     "text": [
      "Hi there please follow the instructions to know how long you have been on earth\n",
      "Type your age in this box6\n",
      "You have lived for 2190 Days, 3155688 Minutes and 189341556  seconds\n",
      "Thanks for using my programme\n"
     ]
    }
   ],
   "source": [
    "#writing a program to how long you have been on earth\n",
    "print('Hi there please follow the instructions to know how long you have been on earth')\n",
    "age = int(input(\"Type your age in this box\"))\n",
    "days = age * 365\n",
    "minutes = age * 525948\n",
    "seconds = age * 31556926\n",
    "print('You have lived for',days,'Days,',minutes,\"Minutes and\",seconds,\" seconds\")\n",
    "print(\"Thanks for using my programme\")"
   ]
  },
  {
   "cell_type": "code",
   "execution_count": 1,
   "metadata": {},
   "outputs": [
    {
     "name": "stdout",
     "output_type": "stream",
     "text": [
      "vencut\n"
     ]
    }
   ],
   "source": [
    "# Strings on Python \n",
    "# Upper and Lower case functions .lower\n",
    "myname = \"Vencut\"\n",
    "print(myname.lower())"
   ]
  },
  {
   "cell_type": "code",
   "execution_count": 8,
   "metadata": {},
   "outputs": [
    {
     "name": "stdout",
     "output_type": "stream",
     "text": [
      "awesome,cool,sooper,stylish,etc.,\n",
      " awesome\n",
      " cool\n",
      " sooper\n",
      " stylish\n",
      " etc.,\n"
     ]
    }
   ],
   "source": [
    "# Newline in strings\n",
    "# \"\\n\" is used to print the output in new line\n",
    "print(\"awesome,cool,sooper,stylish,etc.,\")\n",
    "print(\" awesome\\n cool\\n sooper\\n stylish\\n etc.,\")"
   ]
  },
  {
   "cell_type": "code",
   "execution_count": 13,
   "metadata": {},
   "outputs": [
    {
     "name": "stdout",
     "output_type": "stream",
     "text": [
      "Venkata Krishna Sandhupatla\n"
     ]
    }
   ],
   "source": [
    "# Combining strings using \"+\"\n",
    "first_name = \"Venkata\"\n",
    "last_name = \"Krishna\"\n",
    "sur_name = \"Sandhupatla\"\n",
    "full_name = (first_name+\" \"+last_name+\" \"+sur_name)\n",
    "print(full_name)"
   ]
  },
  {
   "cell_type": "code",
   "execution_count": 20,
   "metadata": {},
   "outputs": [
    {
     "name": "stdout",
     "output_type": "stream",
     "text": [
      "venkat  <class 'str'>\n",
      "56 <class 'int'>\n",
      "venkat 56 <class 'str'>\n"
     ]
    }
   ],
   "source": [
    "# \"str\" String function is used when we need to combine two different data types into one \n",
    "# integer data type means whole numbers\n",
    "myname = \"venkat \"\n",
    "print(myname,type(myname))\n",
    "myage = 56\n",
    "print(myage,type(myage))\n",
    "mine = (myname+str(myage))\n",
    "print(mine,type(mine))"
   ]
  },
  {
   "cell_type": "code",
   "execution_count": 7,
   "metadata": {},
   "outputs": [
    {
     "name": "stdout",
     "output_type": "stream",
     "text": [
      "venkatakrishna\n",
      "Venkata Krishna\n"
     ]
    }
   ],
   "source": [
    "# .title() function is used to capitalize the first letter of the string\n",
    "first = \"venkata\"\n",
    "last = \"krishna\"\n",
    "print(first+last)\n",
    "print(first.title()+\" \"+last.title())"
   ]
  },
  {
   "cell_type": "code",
   "execution_count": 12,
   "metadata": {},
   "outputs": [
    {
     "name": "stdout",
     "output_type": "stream",
     "text": [
      "['cats', 'dogs', 'tigers', 'lions']\n",
      "cats\n",
      "Cats\n",
      "dogs\n"
     ]
    }
   ],
   "source": [
    "# Lists in python are a group of elements in particular order.\n",
    "# [] represents list and list items are seperated by \",\"\n",
    "Animals = [\"cats\",\"dogs\",\"tigers\",\"lions\"]\n",
    "print(Animals)\n",
    "# you can print any one item from the list\n",
    "print(Animals[0])\n",
    "print(Animals[0].title())\n",
    "print(Animals[1])"
   ]
  },
  {
   "cell_type": "code",
   "execution_count": 18,
   "metadata": {},
   "outputs": [
    {
     "name": "stdout",
     "output_type": "stream",
     "text": [
      "i love Bringjal\n"
     ]
    }
   ],
   "source": [
    "# Combine and print an element with a string\n",
    "veg = [\"tomato\",\"carrot\",\"bringjal\"]\n",
    "msg = \"i love \"\n",
    "print(msg+veg[2].title())"
   ]
  },
  {
   "cell_type": "code",
   "execution_count": 1,
   "metadata": {},
   "outputs": [
    {
     "name": "stdout",
     "output_type": "stream",
     "text": [
      "['tomato', 'carrot', 'drumstick', 'cauliflower']\n"
     ]
    }
   ],
   "source": [
    "# Change an element from the lists\n",
    "veg = [\"tomato\",'carrot','drumstick','ginger']\n",
    "veg[3] = \"cauliflower\"\n",
    "print(veg)\n"
   ]
  },
  {
   "cell_type": "code",
   "execution_count": 3,
   "metadata": {},
   "outputs": [
    {
     "name": "stdout",
     "output_type": "stream",
     "text": [
      "['cars', 'bus', 'bicycle']\n"
     ]
    }
   ],
   "source": [
    "# Deleting an element from the list\n",
    "vehicle = ['cars','bus','pig','bicycle']\n",
    "del vehicle[2]\n",
    "print(vehicle)"
   ]
  },
  {
   "cell_type": "code",
   "execution_count": 7,
   "metadata": {},
   "outputs": [
    {
     "name": "stdout",
     "output_type": "stream",
     "text": [
      "['bicycle', 'bus', 'cars', 'pig']\n",
      "['rat', 'fish', 'elephant', 'dog', 'cat']\n",
      "['sharpner', 'rubber', 'pencil', 'pen']\n"
     ]
    }
   ],
   "source": [
    "# Using sort() and reverse() methods\n",
    "vehicle = ['cars','bus','pig','bicycle']\n",
    "vehicle.sort()\n",
    "print(vehicle)\n",
    "animals = ['cat','dog','fish','elephant','rat']\n",
    "animals.sort(reverse=True)\n",
    "print(animals)\n",
    "objects = ['pen','pencil','rubber','sharpner']\n",
    "objects.reverse()\n",
    "print(objects)"
   ]
  },
  {
   "cell_type": "code",
   "execution_count": 10,
   "metadata": {},
   "outputs": [
    {
     "name": "stdout",
     "output_type": "stream",
     "text": [
      "4\n",
      "5\n"
     ]
    }
   ],
   "source": [
    "# using length method\n",
    "num = ['skjd','sgdf','lskdh','ksjhdfk']\n",
    "print(len(num))\n",
    "bk = ['skhdf','skjdg','uwei','iwuwswo','iwuer']\n",
    "print(len(bk))"
   ]
  },
  {
   "cell_type": "code",
   "execution_count": 42,
   "metadata": {},
   "outputs": [
    {
     "output_type": "stream",
     "name": "stdout",
     "text": "I love books\nI love dogs\nI love cats\nI love rabbits\nThanks for watching\ni hate cat\ni hate dog\ni hate fish\ni hate elephant\ni hate rat\nwhtladl skhdf\nwhtladl skjdg\nwhtladl uwei\nwhtladl iwuwswo\nwhtladl iwuer\n"
    }
   ],
   "source": [
    "# Using for loop in lists helps us to print each element from the list individually\n",
    "things = [\"books\",\"dogs\",\"cats\",\"rabbits\"]\n",
    "for List in things:\n",
    "    print(\"I love \"+List)\n",
    "print(\"Thanks for watching\") \n",
    "# Few more examples for practise\n",
    "animals = ['cat','dog','fish','elephant','rat']\n",
    "for List in animals:\n",
    "    print(\"i hate \"+List)\n",
    "bk = ['skhdf','skjdg','uwei','iwuwswo','iwuer']\n",
    "for bk in bk:\n",
    "    print(\"whtladl \"+ bk)"
   ]
  },
  {
   "cell_type": "code",
   "execution_count": 38,
   "metadata": {},
   "outputs": [
    {
     "name": "stdout",
     "output_type": "stream",
     "text": [
      "0\n",
      "1\n",
      "2\n",
      "3\n",
      "4\n",
      "5\n"
     ]
    }
   ],
   "source": [
    "# Using for Loop wiht range() method\n",
    "for value in range(0,6):\n",
    "    print(value)"
   ]
  },
  {
   "cell_type": "code",
   "execution_count": 41,
   "metadata": {},
   "outputs": [
    {
     "name": "stdout",
     "output_type": "stream",
     "text": [
      "1\n",
      "5\n",
      "24\n"
     ]
    }
   ],
   "source": [
    "# Using Min Max and sum with numbers in Lists\n",
    "ksjdf = [1,3,4,1,3,4,3,5,]\n",
    "print(min(ksjdf))\n",
    "print(max(ksjdf))\n",
    "print(sum(ksjdf))"
   ]
  },
  {
   "cell_type": "code",
   "execution_count": 8,
   "metadata": {},
   "outputs": [
    {
     "output_type": "stream",
     "name": "stdout",
     "text": "['linux', 'windows', 'rubix']\n['mac', 'linux', 'windows']\n['linux', 'windows', 'rubix']\n['linux', 'windows', 'rubix']\n"
    }
   ],
   "source": [
    "# slicing lists: to make the slicing with lists specify the index of first and last element using the sign as follows\n",
    "# [first element:last element]\n",
    "os = ['mac','linux','windows','rubix']\n",
    "print(os[1:5])\n",
    "print(os[:3]) # it considers nothing as zero\n",
    "print(os[1:])# here the list goes on till the end of it\n",
    "print(os[-3:]) # shows list from right to left\n",
    "# As we can see here there is no error of \"out of range here\""
   ]
  },
  {
   "cell_type": "code",
   "execution_count": 11,
   "metadata": {},
   "outputs": [
    {
     "output_type": "stream",
     "name": "stdout",
     "text": "My favorite operating system is linux\nwindows\n"
    }
   ],
   "source": [
    "# Using for loop with slice list which is important to update the score in gaming each time after they finish play\n",
    "os = ['mac','linux','windows','rubix']\n",
    "print(\"My favorite operating system is \",end = \"\") \n",
    "for os in os[1:3] :\n",
    "    print(os)\n"
   ]
  },
  {
   "cell_type": "code",
   "execution_count": 27,
   "metadata": {},
   "outputs": [
    {
     "output_type": "stream",
     "name": "stdout",
     "text": "['c', 'c++', 'java', 'php', 'python']\n['c++', 'java']\n"
    }
   ],
   "source": [
    "# Copying lists using slicing list : its important if we want to add new elements to slice list or edit it without making any changes to the original list\n",
    "prog_langs = ['c','c++','java','php','python']\n",
    "cpy_prog_langs = prog_langs[:]\n",
    "print(cpy_prog_langs)\n",
    "cpy_prog_langs = prog_langs[1:3]\n",
    "print(cpy_prog_langs)"
   ]
  },
  {
   "cell_type": "code",
   "execution_count": 24,
   "metadata": {},
   "outputs": [
    {
     "output_type": "stream",
     "name": "stdout",
     "text": "['c', 'c++', 'java', 'php', 'python', 'HTML']\n"
    }
   ],
   "source": [
    "# .append() is used to add the new list object at the end of the list\n",
    "prog_langs = ['c','c++','java','php','python']\n",
    "prog_langs.append('HTML')\n",
    "print(prog_langs)"
   ]
  },
  {
   "cell_type": "markdown",
   "metadata": {},
   "source": [
    "# ----------------------- Tuple ---------------------------\n",
    "- Tuple is a sequence of immutable python objects\n",
    "- It is a data structure just like list but unlike in lists toples cannot be changed \n",
    "- The only way to change the tuple is to overwrite it \n",
    "- lists use the [] where as the tuples use brackets ()"
   ]
  },
  {
   "cell_type": "code",
   "execution_count": 39,
   "metadata": {},
   "outputs": [
    {
     "output_type": "stream",
     "name": "stdout",
     "text": "<class 'tuple'>\n12\n213\n2435\n12\n144\n456\n(213, 2435, 12, 144, 456, 234, 31) <class 'tuple'>\n"
    }
   ],
   "source": [
    "gim = (213,2435,12,144,456)\n",
    "print(type(gim))\n",
    "print(gim[2])\n",
    "# how to do loop using tuple data structure\n",
    "for gim in gim:\n",
    "    print(gim)\n",
    "# we can only override the tuple as follows\n",
    "gim = (213,2435,12,144,456,234,31)\n",
    "print(gim,type(gim))"
   ]
  },
  {
   "cell_type": "markdown",
   "metadata": {},
   "source": [
    "# ------------Using IF else statements---------------\n",
    "- lets you test conditions and returns you with true or false statements specified"
   ]
  },
  {
   "cell_type": "code",
   "execution_count": 49,
   "metadata": {},
   "outputs": [
    {
     "output_type": "stream",
     "name": "stdout",
     "text": "what ever\n"
    }
   ],
   "source": [
    "var = 10\n",
    "if var == 100 :\n",
    "    print(\"yes the program works\")\n",
    "else:\n",
    "    print(\"what ever\")"
   ]
  },
  {
   "cell_type": "code",
   "execution_count": 52,
   "metadata": {},
   "outputs": [
    {
     "output_type": "stream",
     "name": "stdout",
     "text": "yes\nyou are right\n"
    }
   ],
   "source": [
    "# greater than, less than or equal to operators\n",
    "ven = 450\n",
    "if ven > 400 :\n",
    "    print(\"yes\")\n",
    "else:\n",
    "    print('no')\n",
    "if ven == 450 :\n",
    "    print('you are right')\n",
    "    "
   ]
  },
  {
   "cell_type": "code",
   "execution_count": 53,
   "metadata": {},
   "outputs": [
    {
     "output_type": "stream",
     "name": "stdout",
     "text": "em jeshnav ra vari\n"
    }
   ],
   "source": [
    "# Compare strings with if else statements \n",
    "name1 = \"ramesh\"\n",
    "name2 = \"suresh\"\n",
    "if name1 == name2 :\n",
    "    print(\"arey two strings are same na\")\n",
    "else:\n",
    "    print(\"em jeshnav ra vari\")"
   ]
  },
  {
   "cell_type": "code",
   "execution_count": 56,
   "metadata": {},
   "outputs": [
    {
     "output_type": "stream",
     "name": "stdout",
     "text": "equal to\n"
    }
   ],
   "source": [
    "# Using not equal to in if else statements \n",
    "num = 34634\n",
    "if num != 34634 :\n",
    "    print(\"not equal to\")\n",
    "else :\n",
    "    print(\"equal to\")"
   ]
  },
  {
   "cell_type": "code",
   "execution_count": null,
   "metadata": {},
   "outputs": [],
   "source": []
  },
  {
   "cell_type": "code",
   "execution_count": 61,
   "metadata": {},
   "outputs": [
    {
     "output_type": "stream",
     "name": "stdout",
     "text": "True\n"
    }
   ],
   "source": [
    "# Using 'and' with if else in conditional statements such that if all the conditions satify all statements returns True and even if one condition is false returns False\n",
    "num1 = 23\n",
    "num2 = 234\n",
    "if num1 < num2 and num1 != 22 :\n",
    "    print(\"True\")\n",
    "else :\n",
    "    print(\"false\") \n",
    "\n"
   ]
  },
  {
   "cell_type": "code",
   "execution_count": 62,
   "metadata": {},
   "outputs": [
    {
     "output_type": "stream",
     "name": "stdout",
     "text": "234\n"
    }
   ],
   "source": [
    "# Using \"or\" with if else in conditional statements such that even if any one condition is satisfied the staement returns True else false \n",
    "num1 = 23\n",
    "num2 = 234\n",
    "if num1 < num2 or num2 > num1 :\n",
    "    num1 = num2\n",
    "    print(num1)\n",
    "else :\n",
    "    print(\"you\") \n"
   ]
  },
  {
   "cell_type": "code",
   "execution_count": 4,
   "metadata": {},
   "outputs": [
    {
     "output_type": "stream",
     "name": "stdout",
     "text": "user name already taken please try something new \n"
    }
   ],
   "source": [
    "# Checking values in Lists with if else statements\n",
    "# It is important to know how to check for an element if it already exists just as in case of user name \n",
    "# key word \"in\" is used to check the list\n",
    "username = (\"ramesh\",\"suresh\",\"shekhar\",\"naresh\")\n",
    "if (\"ramesh\" in username) :\n",
    "    print(\"user name already taken please try something new \")\n",
    "else :\n",
    "    print (\"user name accepted, please create a password\")\n"
   ]
  },
  {
   "cell_type": "code",
   "execution_count": 11,
   "metadata": {},
   "outputs": [
    {
     "output_type": "stream",
     "name": "stdout",
     "text": "user name suredra is not in the list\n"
    }
   ],
   "source": [
    "# Checking values not in the list using if else statements\n",
    "# keywords both \"not\" and \"in\" are used in the statements\n",
    "username = (\"ramesh\",\"suresh\",\"shekhar\",\"naresh\")\n",
    "myname = \"suredra\"\n",
    "if (myname not in username):\n",
    "    print(\"user name\",myname,\"is not in the list\")\n",
    "else :\n",
    "    print(\"please enter your password\")\n"
   ]
  },
  {
   "cell_type": "code",
   "execution_count": 20,
   "metadata": {},
   "outputs": [
    {
     "output_type": "stream",
     "name": "stdout",
     "text": "This programme is created to test your eligibility for loan\nAs your salary is\n 56000\nyour are eligible for a loan amount of  150000\n"
    }
   ],
   "source": [
    "# If elif else statements are used to write more than once if else statements\n",
    "print(\"This programme is created to test your eligibility for loan\")\n",
    "salary = int(input(\"please input your monthly salary in  rupees\"))\n",
    "print(\"As your salary is\\n\",salary)\n",
    "if salary > 60000 :\n",
    "    amount = 3000000\n",
    "    print(\"you are eligible for a loan amount of \",amount)\n",
    "elif salary < 60000 and salary >= 30000:\n",
    "    amount = 150000\n",
    "    print(\"your are eligible for a loan amount of \",amount)\n",
    "elif salary <= 30000 :\n",
    "    print(\"sorry you are not eligible for the loan\")"
   ]
  },
  {
   "cell_type": "code",
   "execution_count": 22,
   "metadata": {},
   "outputs": [
    {
     "output_type": "stream",
     "name": "stdout",
     "text": "please check your discount here\nyour discount price is  650\n"
    }
   ],
   "source": [
    "print(\"please check your discount here\")\n",
    "count = int(input(\"enter the no of entry tickets you need\"))\n",
    "ticket = 150\n",
    "if count == 3:\n",
    "    discount = ticket*3-50\n",
    "    print(\"your discount price is \",discount)\n",
    "elif count == 5:\n",
    "    discount = ticket*5-100\n",
    "    print(\"your discount price is \",discount)"
   ]
  },
  {
   "cell_type": "markdown",
   "metadata": {},
   "source": [
    "# -------------Dictionaries in Python------------------\n",
    "- Python Dictionaries are a collection just like lists which allows us to collect pieces of information, access or modify to our needs\n",
    "- They are written using the {}\n"
   ]
  },
  {
   "cell_type": "code",
   "execution_count": 6,
   "metadata": {},
   "outputs": [
    {
     "output_type": "stream",
     "name": "stdout",
     "text": "vencut\nwhatever\nfruit juice\nSandhupatla\n"
    }
   ],
   "source": [
    "dic ={'name':\"vencut\",\"place\":\"Hyderabed\"}\n",
    "print(dic[\"name\"])\n",
    "mic = {\"hobby\":\"cricket\",\"time\":\"whatever\"}\n",
    "print(mic[\"time\"])\n",
    "animals ={\"eating\":'veg','killing':'non-veg','drinking':'fruit juice'}\n",
    "print(animals['drinking'])\n",
    "Details ={'First name':'venkata','Middle name':'krishna','Last name':'Sandhupatla'}\n",
    "print(Details['Last name'])"
   ]
  },
  {
   "cell_type": "code",
   "execution_count": 13,
   "metadata": {},
   "outputs": [
    {
     "output_type": "stream",
     "name": "stdout",
     "text": "krishna\n{'first name': 'venkata', 'middle name': 'krishna', 'last name': 'krishna'}\nSandhupatla\nvenkata krishna\n"
    }
   ],
   "source": [
    "# Adding new values to dictionary\n",
    "Name = {'first name':'venkata','middle name':'sandhupatla','last name':'krishna'}\n",
    "Name['middle name'] = \"krishna\"\n",
    "print(Name['middle name'])\n",
    "print(Name)\n",
    "Name['last name'] = 'Sandhupatla'\n",
    "print(Name['last name'])\n",
    "print(Name['first name'],Name['middle name'])"
   ]
  },
  {
   "cell_type": "code",
   "execution_count": 4,
   "metadata": {},
   "outputs": [
    {
     "output_type": "stream",
     "name": "stdout",
     "text": "{'name': 'venkata'}\n{'name': 'venkata', 'sex': 'Male'}\n{'name': 'venkata', 'sex': 'Male', 'blood group': 'O+ Positive'}\nO+ Positive\n"
    }
   ],
   "source": [
    "# Filling empty dictionary : we can create empty dictionary and then add new key values to it\n",
    "details = {}\n",
    "details[\"name\"] = \"venkata\"\n",
    "print(details)\n",
    "details['sex'] = \"Male\"\n",
    "print(details)\n",
    "details['blood group'] = \"O+ Positive\"\n",
    "print(details)\n",
    "print(details[\"blood group\"])"
   ]
  },
  {
   "cell_type": "code",
   "execution_count": 3,
   "metadata": {},
   "outputs": [
    {
     "output_type": "stream",
     "name": "stdout",
     "text": "Venkata\n"
    }
   ],
   "source": [
    "# Editing a value in Dictionary\n",
    "Details = {'first name':'venkata','middle name':'krishna','last name':'sandhupatla'}\n",
    "Details['first name'] = \"Venkata\"\n",
    "print(Details[\"first name\"])\n"
   ]
  },
  {
   "cell_type": "code",
   "execution_count": 4,
   "metadata": {},
   "outputs": [
    {
     "output_type": "stream",
     "name": "stdout",
     "text": "{'green': 'brinjal', 'red': 'tomato', 'orange': 'carrot'}\n{'green': 'brinjal', 'red': 'tomato'}\n"
    }
   ],
   "source": [
    "# Deleting a value in Dictionary\n",
    "vegitables = {'green':'brinjal','red':'tomato','orange':'carrot'}\n",
    "print(vegitables)\n",
    "del vegitables['orange']\n",
    "print(vegitables)"
   ]
  },
  {
   "cell_type": "code",
   "execution_count": 5,
   "metadata": {},
   "outputs": [
    {
     "output_type": "stream",
     "name": "stdout",
     "text": "hi venkata Krishna S nice to meet you\n"
    }
   ],
   "source": [
    "# Input function in Python can be used to prompt the user to input a number or a string\n",
    "name = input(\"whats your name ?\\n\")\n",
    "print(\"hi\",name,'nice to meet you')"
   ]
  },
  {
   "cell_type": "markdown",
   "metadata": {},
   "source": [
    "# --------------- While Loop -----------------\n",
    "- while looping is looping as long as the given condition is true and it stops only when the given condition is false\n",
    "- Python has two primitive loops \"for\" and \"while\"\n"
   ]
  },
  {
   "cell_type": "code",
   "execution_count": 6,
   "metadata": {},
   "outputs": [
    {
     "output_type": "stream",
     "name": "stdout",
     "text": "4\n5\n6\n7\n8\n9\n10\n"
    }
   ],
   "source": [
    "i = 4\n",
    "while(i<=10):\n",
    "    print(i)\n",
    "    i+= 1"
   ]
  },
  {
   "cell_type": "code",
   "execution_count": 12,
   "metadata": {},
   "outputs": [
    {
     "output_type": "stream",
     "name": "stdout",
     "text": "10\n20\n30\n40\n50\n60\n70\n80\n90\n100\n"
    }
   ],
   "source": [
    "number = 10\n",
    "while(number<=100):\n",
    "    print(number)\n",
    "    number+= 10"
   ]
  },
  {
   "cell_type": "code",
   "execution_count": 5,
   "metadata": {},
   "outputs": [
    {
     "output_type": "stream",
     "name": "stdout",
     "text": "Now the no of pages are  56\nNow the no of pages are  66\nNow the no of pages are  76\nNow the no of pages are  86\nNow the no of pages are  96\n"
    }
   ],
   "source": [
    "pages = int(input(\"type any number\"))\n",
    "while(pages>=50 and pages <=100):\n",
    "    print(\"Now the no of pages are \",pages)\n",
    "    pages+= 10"
   ]
  },
  {
   "cell_type": "code",
   "execution_count": 14,
   "metadata": {},
   "outputs": [],
   "source": [
    "# Using flag to stop while looop\n",
    "i = input(\"please write your name\")\n",
    "name = \"Venkata Krishna S\"\n",
    "while(i!= name):\n",
    "    i = input(\"Plese write your full  name as per the 10th marks sheet\")\n"
   ]
  },
  {
   "cell_type": "markdown",
   "metadata": {},
   "source": [
    "# Using break and continue with while loop\n",
    "- they can be used in both \"for\" and \"while\" loops\n",
    "- break can be used to exit the while loop immediately \n",
    "- continue is skip and return back to the beginning of the loop\n"
   ]
  },
  {
   "cell_type": "code",
   "execution_count": 1,
   "metadata": {},
   "outputs": [
    {
     "output_type": "stream",
     "name": "stdout",
     "text": "u inserted the number 5\nu inserted the number \nu inserted the number \nu inserted the number \nu inserted the number vencut\n"
    }
   ],
   "source": [
    "i = 1\n",
    "while(i <= 5):\n",
    "    user = input(\" type any number\")\n",
    "    print(\"u inserted the number\",user)\n",
    "    if(user == \"vencut\"):\n",
    "        break\n",
    "    elif(user == \"krish\"):\n",
    "        continue"
   ]
  },
  {
   "cell_type": "markdown",
   "metadata": {},
   "source": [
    "# Functions \n",
    "- function is a block of code which is only written when it is called\n",
    "- functions can break your programme into small parts which perform the specific task\n",
    "- these small block of codes can be called multiple times making the life easier\n",
    "### to define a function we use    \n",
    "def Function name():\n",
    "     block of code"
   ]
  },
  {
   "cell_type": "code",
   "execution_count": 3,
   "metadata": {},
   "outputs": [
    {
     "output_type": "stream",
     "name": "stdout",
     "text": "this print indicates that the first function is called\n"
    }
   ],
   "source": [
    "def firstfunction():\n",
    "    print(\"this print indicates that the first function is called\")\n",
    "firstfunction()"
   ]
  },
  {
   "cell_type": "code",
   "execution_count": 2,
   "metadata": {},
   "outputs": [
    {
     "output_type": "stream",
     "name": "stdout",
     "text": "welcome back master how may i assist you\n"
    }
   ],
   "source": [
    "def myfunction():\n",
    "    i=input(\"please enter your name\")\n",
    "    if(i==\"vencut\"):\n",
    "        print(\"welcome back master how may i assist you\")\n",
    "    else:\n",
    "        print(\"how the hell are you\")\n",
    "myfunction()"
   ]
  },
  {
   "cell_type": "markdown",
   "metadata": {},
   "source": [
    "# Arguments and parameters in functions\n",
    "- arguments are the values that possesed in the function that is called\n",
    "- parameters are the variable names within the function definition\n"
   ]
  },
  {
   "cell_type": "code",
   "execution_count": 9,
   "metadata": {},
   "outputs": [
    {
     "output_type": "stream",
     "name": "stdout",
     "text": "your first name is  venkata\nyour last name is  krishna\n"
    }
   ],
   "source": [
    "# parameters\n",
    "def names(fname,lname):\n",
    "    print(\"your first name is \",fname)\n",
    "    print(\"your last name is \",lname)\n",
    "# calling function with arguments\n",
    "names(\"venkata\",\"krishna\")"
   ]
  },
  {
   "cell_type": "code",
   "execution_count": 12,
   "metadata": {},
   "outputs": [
    {
     "output_type": "stream",
     "name": "stdout",
     "text": "yes chilli is green in color\nand carrot is red in color\n"
    }
   ],
   "source": [
    "def vegitables(green,red):\n",
    "    print(\"yes\",green,\"is green in color\")\n",
    "    print(\"and\",red,\"is red in color\")\n",
    "vegitables(\"chilli\",\"carrot\")"
   ]
  },
  {
   "cell_type": "code",
   "execution_count": 15,
   "metadata": {},
   "outputs": [
    {
     "output_type": "stream",
     "name": "stdout",
     "text": "yes the strongest one is iron\nyes the lighest one is cotton\n\n\nyes the strongest one is vencut\nyes the lighest one is hari\n\n\nyes the strongest one is ramesh\nyes the lighest one is suresh\n\n\n"
    }
   ],
   "source": [
    "def things(strong,light):\n",
    "    print(\"yes the strongest one is \"+strong)\n",
    "    print(\"yes the lighest one is \"+light)\n",
    "    print(\"\\n\")\n",
    "things(\"iron\",\"cotton\")\n",
    "things(\"vencut\",\"hari\")\n",
    "things(\"ramesh\",\"suresh\")\n",
    "# this way we can call multiple times the same function"
   ]
  },
  {
   "cell_type": "code",
   "execution_count": 19,
   "metadata": {},
   "outputs": [
    {
     "output_type": "stream",
     "name": "stdout",
     "text": "mine name is  vencut \nmy brothers name is  hari\n\n\nmine name is  krishna \nmy brothers name is  Hari\n\n\nmine name is  vencut \nmy brothers name is  hari\n\n\n"
    }
   ],
   "source": [
    "# Default values in functions\n",
    "def names(mine=\"vencut\",brother=\"hari\"):\n",
    "    print(\"mine name is \",mine,\"\\nmy brothers name is \",brother)\n",
    "    print(\"\\n\")\n",
    "names()# if we dont specify the call it gives the default output\n",
    "# you can also simply change the default values as shown below\n",
    "names(mine='krishna',brother='Hari')\n",
    "names()"
   ]
  },
  {
   "cell_type": "code",
   "execution_count": 22,
   "metadata": {},
   "outputs": [
    {
     "output_type": "stream",
     "name": "stdout",
     "text": "yes you have identified the fly correctly \n the color is green \n and the shape is small\nyes you have identified the fly correctly \n the color is red \n and the shape is crucked\nyes you have identified the fly correctly \n the color is green \n and the shape is small\nyes you have identified the fly correctly \n the color is green \n and the shape is small\nyes you have identified the fly correctly \n the color is pink \n and the shape is fluffy\n"
    }
   ],
   "source": [
    "# Order matter in function and it is important to call all the parameters as it throws an error\n",
    "def flies(color=\"green\",shape=\"small\"):\n",
    "    print(\"yes you have identified the fly correctly\", \"\\n the color is\",color,\"\\n and the shape is\",shape)\n",
    "flies()\n",
    "flies(color=\"red\",shape=\"crucked\")\n",
    "flies(color=\"green\")\n",
    "flies(shape=\"small\",color=\"green\")\n",
    "flies(color=\"pink\",shape=\"fluffy\")"
   ]
  },
  {
   "cell_type": "markdown",
   "metadata": {},
   "source": [
    "# Return values in functions\n",
    "- functions are not only used to display data and information but can also be used to return values in the function definition\n",
    "- one can use functions to do anything we need it to perform as they make our life a lot easier in writing code"
   ]
  },
  {
   "cell_type": "code",
   "execution_count": 24,
   "metadata": {},
   "outputs": [
    {
     "output_type": "execute_result",
     "data": {
      "text/plain": "268657"
     },
     "metadata": {},
     "execution_count": 24
    }
   ],
   "source": [
    "def simple(a,b):\n",
    "    total = (a+b)\n",
    "    return total\n",
    "simple(245234,23423)\n",
    "#function is simply used to create logic using parameters that can be called with any type of arguments to obtain the desired output"
   ]
  },
  {
   "cell_type": "markdown",
   "metadata": {},
   "source": [
    "# Classes\n",
    "- As python is object oriented programming language classes are very important as they play very effective role in coding using python\n",
    "- classes can be represented real world things exactly like a blue print\n",
    "- almost everything in python is objects but classes are just like blue prints and they themselves are not objects\n",
    "- classes can create objects that are called instances\n",
    "- creating a Class (note: first letter of a class is always is capital)\n",
    "- to create object of the class we write object = classname()\n",
    "### Class classname():\n",
    "       #variables\n",
    "       #functions\n",
    "       #the code you want to execute"
   ]
  },
  {
   "cell_type": "code",
   "execution_count": 28,
   "metadata": {},
   "outputs": [
    {
     "output_type": "error",
     "ename": "NameError",
     "evalue": "name 'vencut' is not defined",
     "traceback": [
      "\u001b[1;31m---------------------------------------------------------------------------\u001b[0m",
      "\u001b[1;31mNameError\u001b[0m                                 Traceback (most recent call last)",
      "\u001b[1;32m<ipython-input-28-fa591d08832d>\u001b[0m in \u001b[0;36m<module>\u001b[1;34m\u001b[0m\n\u001b[0;32m     11\u001b[0m \u001b[1;31m#now yes contains all the functions declared in the classs first\u001b[0m\u001b[1;33m\u001b[0m\u001b[1;33m\u001b[0m\u001b[1;33m\u001b[0m\u001b[0m\n\u001b[0;32m     12\u001b[0m \u001b[0myes\u001b[0m \u001b[1;33m=\u001b[0m \u001b[0mFirst\u001b[0m\u001b[1;33m(\u001b[0m\u001b[1;33m)\u001b[0m\u001b[1;33m\u001b[0m\u001b[1;33m\u001b[0m\u001b[0m\n\u001b[1;32m---> 13\u001b[1;33m \u001b[0myes\u001b[0m\u001b[1;33m.\u001b[0m\u001b[0minsert\u001b[0m\u001b[1;33m(\u001b[0m\u001b[1;34m\"venkat\"\u001b[0m\u001b[1;33m,\u001b[0m\u001b[1;34m\"\\n 309\"\u001b[0m\u001b[1;33m,\u001b[0m\u001b[1;34m\"\\n 29375\"\u001b[0m\u001b[1;33m)\u001b[0m\u001b[1;33m\u001b[0m\u001b[1;33m\u001b[0m\u001b[0m\n\u001b[0m\u001b[0;32m     14\u001b[0m \u001b[0myes\u001b[0m\u001b[1;33m.\u001b[0m\u001b[0moutput\u001b[0m\u001b[1;33m(\u001b[0m\u001b[1;33m)\u001b[0m\u001b[1;33m\u001b[0m\u001b[1;33m\u001b[0m\u001b[0m\n",
      "\u001b[1;32m<ipython-input-28-fa591d08832d>\u001b[0m in \u001b[0;36minsert\u001b[1;34m(self, name, age, idnumber)\u001b[0m\n\u001b[0;32m      3\u001b[0m     \u001b[1;32mdef\u001b[0m \u001b[0minsert\u001b[0m\u001b[1;33m(\u001b[0m\u001b[0mself\u001b[0m\u001b[1;33m,\u001b[0m\u001b[0mname\u001b[0m\u001b[1;33m,\u001b[0m\u001b[0mage\u001b[0m\u001b[1;33m,\u001b[0m\u001b[0midnumber\u001b[0m\u001b[1;33m)\u001b[0m\u001b[1;33m:\u001b[0m\u001b[1;33m\u001b[0m\u001b[1;33m\u001b[0m\u001b[0m\n\u001b[0;32m      4\u001b[0m          \u001b[1;31m# here self is important as it calls itself in the class\u001b[0m\u001b[1;33m\u001b[0m\u001b[1;33m\u001b[0m\u001b[1;33m\u001b[0m\u001b[0m\n\u001b[1;32m----> 5\u001b[1;33m          \u001b[0mself\u001b[0m\u001b[1;33m.\u001b[0m\u001b[0mname\u001b[0m \u001b[1;33m=\u001b[0m \u001b[0mvencut\u001b[0m\u001b[1;33m\u001b[0m\u001b[1;33m\u001b[0m\u001b[0m\n\u001b[0m\u001b[0;32m      6\u001b[0m          \u001b[0mself\u001b[0m\u001b[1;33m.\u001b[0m\u001b[0mage\u001b[0m \u001b[1;33m=\u001b[0m \u001b[1;36m30\u001b[0m\u001b[1;33m\u001b[0m\u001b[1;33m\u001b[0m\u001b[0m\n\u001b[0;32m      7\u001b[0m          \u001b[0mself\u001b[0m\u001b[1;33m.\u001b[0m\u001b[0midnumber\u001b[0m \u001b[1;33m=\u001b[0m \u001b[1;36m345\u001b[0m\u001b[1;33m\u001b[0m\u001b[1;33m\u001b[0m\u001b[0m\n",
      "\u001b[1;31mNameError\u001b[0m: name 'vencut' is not defined"
     ]
    }
   ],
   "source": [
    "#create a classs\n",
    "class First():\n",
    "    def insert(self,name,age,idnumber):\n",
    "         # here self is important as it calls itself in the class\n",
    "         self.name = vencut\n",
    "         self.age = 30\n",
    "         self.idnumber = 345\n",
    "    def output(self):\n",
    "        print(\"your name is \",self.name)\n",
    "# creating a class instans\n",
    "#now yes contains all the functions declared in the classs first\n",
    "yes = First()\n",
    "yes.insert(\"venkat\",\"\\n 309\",\"\\n 29375\")\n",
    "yes.output()  \n"
   ]
  }
 ],
 "metadata": {
  "kernelspec": {
   "display_name": "Python 3",
   "language": "python",
   "name": "python3"
  },
  "language_info": {
   "codemirror_mode": {
    "name": "ipython",
    "version": 3
   },
   "file_extension": ".py",
   "mimetype": "text/x-python",
   "name": "python",
   "nbconvert_exporter": "python",
   "pygments_lexer": "ipython3",
   "version": "3.7.6-final"
  }
 },
 "nbformat": 4,
 "nbformat_minor": 4
}