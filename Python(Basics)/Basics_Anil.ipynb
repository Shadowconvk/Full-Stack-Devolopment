{
 "cells": [
  {
   "cell_type": "markdown",
   "metadata": {},
   "source": [
    "# Welcome to Python Programming Language\n",
    "- pwd is used to know the present working directory\n",
    "- control plus enter runs the command \n",
    "- \"hash\" is used for commenting which are not excuted by the python interpreter\n",
    "- shift plus enter moves you to the next cell after runnning the command"
   ]
  },
  {
   "cell_type": "code",
   "execution_count": 36,
   "metadata": {},
   "outputs": [
    {
     "data": {
      "text/plain": [
       "'C:\\\\Users\\\\unico'"
      ]
     },
     "execution_count": 36,
     "metadata": {},
     "output_type": "execute_result"
    }
   ],
   "source": [
    "pwd # displays the current working directory"
   ]
  },
  {
   "cell_type": "markdown",
   "metadata": {},
   "source": [
    "########### no of hasgtags is inversly proportional to the size of the text in Markdown \n",
    "########## no of hasgtags is inversly proportional to the size of the text in Markdown\n",
    "######### no of hasgtags is inversly proportional to the size of the text in Markdown\n",
    "######## no of hasgtags is inversly proportional to the size of the text in Markdown\n",
    "###### no of hasgtags is inversly proportional to the size of the text \n",
    "###### no of hasgtags is inversly proportional to the size of the text \n",
    "#### no of hasgtags is inversly proportional to the size of the text \n",
    "## no of hasgtags is inversly proportional to the size of the text \n",
    "# no of hasgtags is inversly proportional to the size of the text "
   ]
  },
  {
   "cell_type": "code",
   "execution_count": null,
   "metadata": {},
   "outputs": [],
   "source": [
    "# Heading \n",
    "- sub point\n",
    "   - sub sub point\n"
   ]
  },
  {
   "cell_type": "markdown",
   "metadata": {},
   "source": [
    "<img src = \"img.png\" Height = \"25px\" width = \"29px\" /> # used to insert image in markdown"
   ]
  },
  {
   "cell_type": "markdown",
   "metadata": {},
   "source": [
    "- *hi check this out*\n",
    "- **hi check this out**\n",
    "- ***hi check this out***\n"
   ]
  },
  {
   "cell_type": "code",
   "execution_count": 19,
   "metadata": {},
   "outputs": [
    {
     "name": "stdout",
     "output_type": "stream",
     "text": [
      "welcome to python programming\n"
     ]
    }
   ],
   "source": [
    "print(\"welcome to python programming\")"
   ]
  },
  {
   "cell_type": "code",
   "execution_count": 35,
   "metadata": {},
   "outputs": [
    {
     "name": "stdout",
     "output_type": "stream",
     "text": [
      "welcome to my world\n",
      "Happy to see you\n"
     ]
    }
   ],
   "source": [
    "print(\"welcome to my world\") # u can write multiple lines in a cell and then excute all at once\n",
    "print(\"Happy to see you\")"
   ]
  },
  {
   "cell_type": "code",
   "execution_count": 34,
   "metadata": {},
   "outputs": [
    {
     "name": "stdout",
     "output_type": "stream",
     "text": [
      "learn the proper formating\n",
      "cause the computer programming is very presice\n"
     ]
    }
   ],
   "source": [
    "print('learn the proper formating') # single quote or double does the same job no difference \n",
    "print(\"cause the computer programming is very presice\")"
   ]
  },
  {
   "cell_type": "raw",
   "metadata": {},
   "source": []
  },
  {
   "cell_type": "code",
   "execution_count": 32,
   "metadata": {},
   "outputs": [
    {
     "name": "stdout",
     "output_type": "stream",
     "text": [
      "welcome to my world Happy to see you\n"
     ]
    }
   ],
   "source": [
    "print(\"welcome to my world\",\"Happy to see you\") \n",
    "# \",\" can be used to arange multiple statements in a single line"
   ]
  },
  {
   "cell_type": "code",
   "execution_count": 30,
   "metadata": {},
   "outputs": [
    {
     "name": "stdout",
     "output_type": "stream",
     "text": [
      "welcome to my worldHappy to see you\n"
     ]
    }
   ],
   "source": [
    "print(\"welcome to my world\",end = \"\" ) # end is used to end the space between the \"\"\n",
    "print (\"Happy to see you\")"
   ]
  },
  {
   "cell_type": "markdown",
   "metadata": {},
   "source": [
    "# Input Functions"
   ]
  },
  {
   "cell_type": "code",
   "execution_count": 38,
   "metadata": {},
   "outputs": [
    {
     "name": "stdout",
     "output_type": "stream",
     "text": [
      "what should i type ?\n"
     ]
    }
   ],
   "source": [
    "vk = input(\"Hi why dont your type something\")\n",
    "print(vk)\n",
    "# input() function reads the data entered into it interms of string format "
   ]
  },
  {
   "cell_type": "code",
   "execution_count": 42,
   "metadata": {},
   "outputs": [
    {
     "name": "stdout",
     "output_type": "stream",
     "text": [
      "type your namevencut\n",
      "your name is : vencut am i correct ?\n"
     ]
    }
   ],
   "source": [
    "name = input(\"type your name\")\n",
    "print(\"your name is :\", name,\"am i correct ?\")"
   ]
  },
  {
   "cell_type": "markdown",
   "metadata": {},
   "source": [
    "# Data Types in Python\n",
    "- int \n",
    "- float\n",
    "- string"
   ]
  },
  {
   "cell_type": "code",
   "execution_count": 46,
   "metadata": {},
   "outputs": [
    {
     "name": "stdout",
     "output_type": "stream",
     "text": [
      "100 <class 'int'>\n"
     ]
    }
   ],
   "source": [
    "x = 100\n",
    "print(x,type(x)) # , represents the concatination symbol and type represents the object data type"
   ]
  },
  {
   "cell_type": "code",
   "execution_count": 57,
   "metadata": {},
   "outputs": [
    {
     "name": "stdout",
     "output_type": "stream",
     "text": [
      "100.023235 <class 'float'>\n",
      "100.0 <class 'float'>\n"
     ]
    }
   ],
   "source": [
    "x = 100.02323500000\n",
    "print(x,type(x)) # . seperating two number represents float data type\n",
    "# here the interpreter does not return the zeros after the point\n",
    "y = 100.0\n",
    "print(y, type(y))   \n",
    "# here it takes the data type as the float and returns one xero after decimal point"
   ]
  },
  {
   "cell_type": "code",
   "execution_count": 50,
   "metadata": {},
   "outputs": [
    {
     "name": "stdout",
     "output_type": "stream",
     "text": [
      "single coat <class 'str'>\n",
      "double coat <class 'str'>\n",
      "d <class 'str'>\n"
     ]
    }
   ],
   "source": [
    "s = \"single coat\"\n",
    "print(s,type(s)) # single or double coat represents the string data type\n",
    "v = \"double coat\"\n",
    "print(v,type(v))\n",
    "s = \"d\"\n",
    "print(s,type(s)) # even single letter is taken as string data type "
   ]
  },
  {
   "cell_type": "markdown",
   "metadata": {},
   "source": [
    "# Data type conversion is called \"Type casting\"\n",
    "- int() converts the given data type to integer\n",
    "- float() converts the given data type to float\n",
    "- str() converts the given data tyoe to string "
   ]
  },
  {
   "cell_type": "code",
   "execution_count": 74,
   "metadata": {},
   "outputs": [
    {
     "name": "stdout",
     "output_type": "stream",
     "text": [
      "3526 <class 'str'>\n",
      "3526 <class 'int'>\n",
      "3526 <class 'str'>\n",
      "3526 <class 'int'>\n"
     ]
    }
   ],
   "source": [
    "s = \"3526\"\n",
    "print(s,type(s))\n",
    "v = int(s)\n",
    "print(v,type(v))\n",
    "print(s,type(s))\n",
    "k = 3526\n",
    "print(k,type(k))\n",
    "# so here its clear that even if we convert the data type using type casting,\n",
    "# only the data type that represents the conversion is converted but not the actual data"
   ]
  },
  {
   "cell_type": "code",
   "execution_count": 69,
   "metadata": {},
   "outputs": [
    {
     "name": "stdout",
     "output_type": "stream",
     "text": [
      "43589 <class 'int'>\n",
      "43589.0 <class 'float'>\n",
      "43589 <class 'int'>\n"
     ]
    }
   ],
   "source": [
    "s = 43589\n",
    "print(s,type(s))\n",
    "v = float(s)\n",
    "print(v,type(v)) \n",
    "print(s,type(s))"
   ]
  },
  {
   "cell_type": "code",
   "execution_count": 73,
   "metadata": {},
   "outputs": [
    {
     "name": "stdout",
     "output_type": "stream",
     "text": [
      "9274435792.38945 <class 'float'>\n",
      "9274435792 <class 'int'>\n"
     ]
    }
   ],
   "source": [
    "i = 9274435792.3894502973\n",
    "print(i,type(i))\n",
    "c = int(i)\n",
    "print(c,type(c))\n",
    "# conversion of data type also modifies the data for which there could be changes -\n",
    "# - in the results for certain mathematical functions"
   ]
  },
  {
   "cell_type": "markdown",
   "metadata": {},
   "source": [
    "# control statements \n",
    "- conditional statements\n",
    "    - if-else statements\n",
    "- looping statements\n",
    "    - while\n",
    "    - for\n"
   ]
  },
  {
   "cell_type": "markdown",
   "metadata": {},
   "source": [
    "# Indentaion\n",
    "- it is also an important concept in the python programming which concluedes the correct format\n",
    "- and that the code written in the furthur lines belongo the same logic and not an another one\n",
    "- in python indentation is represented by proper spacing and starting the new line right below or     - inside the existing logic"
   ]
  },
  {
   "cell_type": "code",
   "execution_count": 76,
   "metadata": {},
   "outputs": [
    {
     "name": "stdout",
     "output_type": "stream",
     "text": [
      "type your name346590\n",
      "346590 <class 'str'>\n"
     ]
    }
   ],
   "source": [
    "# Read the input as number as by default it considers as integer and test if its even or odd\n",
    "name = input(\"type your name\")\n",
    "print(name,type(name))"
   ]
  },
  {
   "cell_type": "code",
   "execution_count": 78,
   "metadata": {},
   "outputs": [
    {
     "name": "stdout",
     "output_type": "stream",
     "text": [
      "please enter a number8\n",
      "the data type is : <class 'int'> and the number is 8\n"
     ]
    }
   ],
   "source": [
    "name = int(input(\"please enter a number\")) # u can directly specify the data type of the input\n",
    "print(\"the data type is :\",type(name),\"and the number is\",name)"
   ]
  },
  {
   "cell_type": "markdown",
   "metadata": {},
   "source": [
    "# Conditional statements\n",
    "- If else statements"
   ]
  },
  {
   "cell_type": "code",
   "execution_count": 4,
   "metadata": {},
   "outputs": [
    {
     "name": "stdout",
     "output_type": "stream",
     "text": [
      "type a number0\n",
      "its an even number right\n"
     ]
    }
   ],
   "source": [
    "# identifying the input integer as even or odd \n",
    "num = int(input(\"type a number\"))\n",
    "if  num % 2 == 0: \n",
    "    print(\"its an even number right\")\n",
    "else:\n",
    "    print(\"its an odd number i knew it\",type(num))"
   ]
  },
  {
   "cell_type": "code",
   "execution_count": 9,
   "metadata": {},
   "outputs": [
    {
     "output_type": "error",
     "ename": "ValueError",
     "evalue": "invalid literal for int() with base 10: ''",
     "traceback": [
      "\u001b[1;31m---------------------------------------------------------------------------\u001b[0m",
      "\u001b[1;31mValueError\u001b[0m                                Traceback (most recent call last)",
      "\u001b[1;32m<ipython-input-9-a7de022a6aa0>\u001b[0m in \u001b[0;36m<module>\u001b[1;34m\u001b[0m\n\u001b[0;32m      1\u001b[0m \u001b[1;31m# taking two inputs and using a multiplication string\u001b[0m\u001b[1;33m\u001b[0m\u001b[1;33m\u001b[0m\u001b[1;33m\u001b[0m\u001b[0m\n\u001b[0;32m      2\u001b[0m \u001b[0mnum1\u001b[0m \u001b[1;33m=\u001b[0m \u001b[0mint\u001b[0m\u001b[1;33m(\u001b[0m\u001b[0minput\u001b[0m\u001b[1;33m(\u001b[0m\u001b[1;34m\"enter 1st number\"\u001b[0m\u001b[1;33m)\u001b[0m\u001b[1;33m)\u001b[0m\u001b[1;33m\u001b[0m\u001b[1;33m\u001b[0m\u001b[0m\n\u001b[1;32m----> 3\u001b[1;33m \u001b[0mnum2\u001b[0m \u001b[1;33m=\u001b[0m \u001b[0mint\u001b[0m\u001b[1;33m(\u001b[0m\u001b[0minput\u001b[0m\u001b[1;33m(\u001b[0m\u001b[1;34m\"enter 2nd number\"\u001b[0m\u001b[1;33m)\u001b[0m\u001b[1;33m)\u001b[0m\u001b[1;33m\u001b[0m\u001b[1;33m\u001b[0m\u001b[0m\n\u001b[0m\u001b[0;32m      4\u001b[0m \u001b[1;32mif\u001b[0m \u001b[0mnum1\u001b[0m \u001b[1;33m>\u001b[0m \u001b[0mnum2\u001b[0m \u001b[1;33m:\u001b[0m\u001b[1;33m\u001b[0m\u001b[1;33m\u001b[0m\u001b[0m\n\u001b[0;32m      5\u001b[0m     \u001b[0mprint\u001b[0m \u001b[1;33m(\u001b[0m\u001b[0mnum1\u001b[0m \u001b[1;33m*\u001b[0m \u001b[0mnum1\u001b[0m\u001b[1;33m)\u001b[0m\u001b[1;33m\u001b[0m\u001b[1;33m\u001b[0m\u001b[0m\n",
      "\u001b[1;31mValueError\u001b[0m: invalid literal for int() with base 10: ''"
     ]
    }
   ],
   "source": [
    "# taking two inputs and using a multiplication string\n",
    "num1 = int(input(\"enter 1st number\"))\n",
    "num2 = int(input(\"enter 2nd number\"))\n",
    "if num1 > num2 :\n",
    "    print (num1 * num1)\n",
    "else :\n",
    "    print (num2 * num2 )\n",
    "    "
   ]
  },
  {
   "cell_type": "code",
   "execution_count": 14,
   "metadata": {},
   "outputs": [
    {
     "name": "stdout",
     "output_type": "stream",
     "text": [
      "enter number one6785678\n",
      "enter number two34534\n",
      "enter number three34534\n",
      "6785678\n"
     ]
    }
   ],
   "source": [
    "# take three inputs as integers and give the largest number as output\n",
    "# the python interpreter cannot work with the value of  the input integer datatype \n",
    "# hence it has to be fed with every bit of instruction as below\n",
    "# there is also something called as 'elif' means else if that can be used for multiple alternative\n",
    "num1 = int(input(\"enter number one\"))\n",
    "num2 = int(input(\"enter number two\"))\n",
    "num3 = int(input('enter number three'))\n",
    "if num1 > num2 and num1 > num3 :\n",
    "    print(num1)\n",
    "elif num2 > num1 and num2 > num3 :\n",
    "    print(num2)\n",
    "elif num3 > num1 and num3 > num2 :\n",
    "    print(num3)"
   ]
  },
  {
   "cell_type": "markdown",
   "metadata": {},
   "source": [
    "- Python supports words like \"True\" and \"False\" (case sensitive) and they beling to the data type\n",
    "- called the \"bool\""
   ]
  },
  {
   "cell_type": "code",
   "execution_count": 6,
   "metadata": {},
   "outputs": [
    {
     "name": "stdout",
     "output_type": "stream",
     "text": [
      "False <class 'bool'>\n",
      "you are right\n"
     ]
    }
   ],
   "source": [
    "x = 10\n",
    "cal = (x >= 100)\n",
    "print(cal,type(cal))\n",
    "if True :\n",
    "    print(\"you are right\")\n",
    "else :\n",
    "    print(\"iam right\")"
   ]
  },
  {
   "cell_type": "code",
   "execution_count": 5,
   "metadata": {},
   "outputs": [
    {
     "name": "stdout",
     "output_type": "stream",
     "text": [
      "False <class 'bool'>\n",
      "you are right\n"
     ]
    }
   ],
   "source": [
    "x = 10\n",
    "cal = (x >= 100)\n",
    "print(cal,type(cal))\n",
    "# you can also self define the keyword by storing it in the variable like given below\n",
    "true = True\n",
    "if true :\n",
    "    print(\"you are right\")\n",
    "else :\n",
    "    print(\"iam right\")"
   ]
  },
  {
   "cell_type": "markdown",
   "metadata": {},
   "source": [
    "# Three types of words are used in python\n",
    "- and (represented by symbol &&) \n",
    "- or (represented by symbol //) \n",
    "- not (represented by symbil !)\n",
    "# Types of Operators\n",
    "- \"/\" represents division returning the float value or decimal where as \n",
    "- \"//\" represents division returning the integer value or floor value\n",
    "- \"*\" represents the multiplication value where as the \n",
    "- \"**\" represents the power of ()s = (2/4)\n"
   ]
  },
  {
   "cell_type": "code",
   "execution_count": 4,
   "metadata": {},
   "outputs": [
    {
     "name": "stdout",
     "output_type": "stream",
     "text": [
      "0.5\n",
      "0\n",
      "8\n",
      "16\n"
     ]
    }
   ],
   "source": [
    "s = (2/4)\n",
    "print(s)\n",
    "v = (2//4)\n",
    "print(v)\n",
    "k = (2*4)\n",
    "print(k)\n",
    "g = (2**4)\n",
    "print(g)"
   ]
  },
  {
   "cell_type": "markdown",
   "metadata": {},
   "source": [
    "# Looping statements \n",
    "- while \n",
    "- for"
   ]
  },
  {
   "cell_type": "markdown",
   "metadata": {},
   "source": [
    "\"while\" is used in boolian condition with the statements of incremental or decremental and also \n",
    "python does not support the ++ and -- conditions instead we need to write x+ = 1 and \n",
    "!= means a not equal to symbol"
   ]
  },
  {
   "cell_type": "code",
   "execution_count": 6,
   "metadata": {},
   "outputs": [
    {
     "name": "stdout",
     "output_type": "stream",
     "text": [
      "type any number6\n",
      "123456"
     ]
    }
   ],
   "source": [
    "# read an input number n and the numbers from 1 to n\n",
    "n = int(input(\"type any number\"))\n",
    "i = 1\n",
    "while i <= n :\n",
    "    print(i, end = \"\")\n",
    "    i += 1\n"
   ]
  },
  {
   "cell_type": "code",
   "execution_count": 12,
   "metadata": {},
   "outputs": [
    {
     "name": "stdout",
     "output_type": "stream",
     "text": [
      "write any number to get its factors : 9\n",
      "139"
     ]
    }
   ],
   "source": [
    "# Read the input as a number\n",
    "# Print the output as factors of given number\n",
    "n = int(input(\"write any number to get its factors : \"))\n",
    "i =1\n",
    "while i <= n :\n",
    "    if n % i == 0 :\n",
    "        print(i,end = \"\")\n",
    "    i += 1"
   ]
  },
  {
   "cell_type": "code",
   "execution_count": 16,
   "metadata": {},
   "outputs": [
    {
     "name": "stdout",
     "output_type": "stream",
     "text": [
      "6456\n",
      "6546"
     ]
    }
   ],
   "source": [
    "# Read the input as a number\n",
    "# Print the digits of the given number ie., 154 as 4 5 1\n",
    "n = int(input())\n",
    "while n != 0:\n",
    "    print(n%10,end = \"\")\n",
    "    n = n//10"
   ]
  },
  {
   "cell_type": "code",
   "execution_count": 19,
   "metadata": {},
   "outputs": [
    {
     "name": "stdout",
     "output_type": "stream",
     "text": [
      "764053\n",
      "three five zero four six seven "
     ]
    }
   ],
   "source": [
    "# Read the input as a number\n",
    "# Print the digits of the given number ie., 154 as four five one\n",
    "n = int(input())\n",
    "while n != 0:\n",
    "    r = n % 10\n",
    "    if r == 0:\n",
    "        print(\"zero \", end = \"\")\n",
    "    elif r == 1:\n",
    "        print(\"one \", end = \"\")\n",
    "    elif r == 2:\n",
    "        print(\"two \", end = \"\")\n",
    "    elif r == 3:\n",
    "        print(\"three \", end = \"\")\n",
    "    elif r == 4:\n",
    "        print(\"four \", end = \"\")\n",
    "    elif r == 5:\n",
    "        print(\"five \", end = \"\")\n",
    "    elif r == 6:\n",
    "        print(\"six \", end = \"\")\n",
    "    elif r == 7:\n",
    "        print(\"seven \", end = \"\")\n",
    "    elif r == 8:\n",
    "        print(\"eight \", end = \"\")\n",
    "    elif r == 9:\n",
    "        print(\"nine \", end = \"\")\n",
    "    n = n // 10"
   ]
  },
  {
   "cell_type": "code",
   "execution_count": 28,
   "metadata": {},
   "outputs": [
    {
     "name": "stdout",
     "output_type": "stream",
     "text": [
      "type any number3456789\n",
      "< 9 , 3 >\n"
     ]
    }
   ],
   "source": [
    "# Read the input as a number\n",
    "# Print the highest and the lowest digits of the given number ie., \n",
    "# 15429370 as <0,9>\n",
    "x = int(input(\"type any number\"))\n",
    "large,small = 0,9\n",
    "while x != 0 :\n",
    "    r = x % 10\n",
    "    if r > large :\n",
    "        large = r\n",
    "    if r < small :\n",
    "        small = r\n",
    "    x = x // 10\n",
    "print(\"<\", large,\",\", small,\">\")"
   ]
  },
  {
   "cell_type": "code",
   "execution_count": 2,
   "metadata": {},
   "outputs": [
    {
     "output_type": "stream",
     "name": "stdout",
     "text": "palindrom\n"
    }
   ],
   "source": [
    "# read the number as an input and print if its a palindrom(101,202 etc.,)\n",
    "# storing the value of n in buffer because after the while loop n become 0\n",
    "n = int(input(\"write the number\"))\n",
    "rev,buffer = 0,n\n",
    "while n != 0:\n",
    "    r = n % 10\n",
    "    rev = rev*10 + r\n",
    "    n = n//10\n",
    "if buffer == rev:\n",
    "    print(\"palindrom\")\n",
    "else:\n",
    "    print(\"try again\")"
   ]
  },
  {
   "cell_type": "markdown",
   "metadata": {},
   "source": [
    "# For Loop\n",
    "- for (local variabel) in (object name):\n",
    "      statements"
   ]
  },
  {
   "cell_type": "code",
   "execution_count": 38,
   "metadata": {},
   "outputs": [
    {
     "name": "stdout",
     "output_type": "stream",
     "text": [
      "01234"
     ]
    }
   ],
   "source": [
    "for n in range(5):\n",
    "    print(n,end = '')"
   ]
  },
  {
   "cell_type": "code",
   "execution_count": 39,
   "metadata": {},
   "outputs": [
    {
     "name": "stdout",
     "output_type": "stream",
     "text": [
      "567891011121314151617181920212223242526272829303132333435363738394041424344454647484950"
     ]
    }
   ],
   "source": [
    "for x in range(5,51):\n",
    "    print(x,end = '')"
   ]
  },
  {
   "cell_type": "code",
   "execution_count": 44,
   "metadata": {},
   "outputs": [
    {
     "name": "stdout",
     "output_type": "stream",
     "text": [
      "57911131517192123252729313335373941434547495\n",
      "10\n",
      "15\n",
      "20\n",
      "25\n",
      "30\n"
     ]
    }
   ],
   "source": [
    "# here the first two digits represents the range limits where as \n",
    "# third number represents the skip of 2 \n",
    "for i in range(5,50,2):\n",
    "    print(i,end = \"\")\n",
    "for k in range (5,35,5):\n",
    "    print(k)\n",
    "# As we can see number 5 is used for both the print statements  "
   ]
  },
  {
   "cell_type": "code",
   "execution_count": 47,
   "metadata": {},
   "outputs": [
    {
     "name": "stdout",
     "output_type": "stream",
     "text": [
      "01234"
     ]
    }
   ],
   "source": [
    "# when there are no limits to range it starts from zero\n",
    "# range always ends one less than the max limit\n",
    "for i in range(5):\n",
    "    print(i,end = \"\")"
   ]
  },
  {
   "cell_type": "code",
   "execution_count": 49,
   "metadata": {},
   "outputs": [
    {
     "name": "stdout",
     "output_type": "stream",
     "text": [
      "10\n",
      "8\n",
      "6\n",
      "4\n",
      "2\n"
     ]
    }
   ],
   "source": [
    "# this way range can also be reversed\n",
    "for i in range(10,0,-2):\n",
    "    print(i)"
   ]
  },
  {
   "cell_type": "code",
   "execution_count": 50,
   "metadata": {},
   "outputs": [
    {
     "name": "stdout",
     "output_type": "stream",
     "text": [
      "-15-13-11-9-7-5-3-1"
     ]
    }
   ],
   "source": [
    "# the same can be applied for the negitive numbers as well\n",
    "for i in range(-15,0,2):\n",
    "    print(i,end = \"\")"
   ]
  },
  {
   "cell_type": "markdown",
   "metadata": {},
   "source": [
    "# Data Structures in Python\n",
    "- it stores the data in particular Object which make several operations simple\n",
    "- for sorting, searching, storing\n",
    "## The data structures are as follows\n",
    "- List\n",
    "  - a common data structure in python enclosed in \"[]\" \n",
    "  - every list item is seperated by a comma\n",
    "  - list can be of same type  or different\n",
    "- Tople\n",
    "- Dictionary\n",
    "- Set\n",
    "- "
   ]
  },
  {
   "cell_type": "code",
   "execution_count": 53,
   "metadata": {},
   "outputs": [
    {
     "name": "stdout",
     "output_type": "stream",
     "text": [
      "[1, 'whatever', 2385.34, 'yes']\n"
     ]
    }
   ],
   "source": [
    "# multiple data types in list\n",
    "x = [1,\"whatever\", 2385.34, \"yes\"]\n",
    "print(x)"
   ]
  },
  {
   "cell_type": "code",
   "execution_count": 61,
   "metadata": {},
   "outputs": [
    {
     "name": "stdout",
     "output_type": "stream",
     "text": [
      "-9-8-7-6-5-4-3-2-11\n",
      "2\n",
      "3\n",
      "4\n",
      "5\n"
     ]
    }
   ],
   "source": [
    "# we can also specify the range and length of the list object as follows\n",
    "j = [1,2,3,4,5]\n",
    "for g in range(-9,0,1):\n",
    "    print(g,end = \"\")\n",
    "for g in range(len(j)):\n",
    "    print(j[g]) "
   ]
  },
  {
   "cell_type": "code",
   "execution_count": 8,
   "metadata": {},
   "outputs": [
    {
     "name": "stdout",
     "output_type": "stream",
     "text": [
      "2378\n",
      "gsdkfj\n",
      "wioei\n",
      "['sdhgf', 2378, 23986]\n"
     ]
    }
   ],
   "source": [
    " g = [\"sdhgf\",\"gsdkfj\",2378, 23986]\n",
    " print(g[2])\n",
    " print(g[1])\n",
    " g[1] = \"wioei\" # updates the list with the given variable \n",
    " print(g[1])\n",
    "del g[1] # deletes the list object mentioned  \n",
    "print(g)"
   ]
  },
  {
   "cell_type": "code",
   "execution_count": 23,
   "metadata": {},
   "outputs": [
    {
     "name": "stdout",
     "output_type": "stream",
     "text": [
      "[242, 35]\n",
      "[35, 242, 234]\n",
      "[242] <class 'list'>\n"
     ]
    }
   ],
   "source": [
    "d = [242,35,242,234,]\n",
    "# List slicing its important\n",
    "print(d[0:2])\n",
    "# here 0,2 are the positions of the list objects\n",
    "print(d[1:])\n",
    "# here the list goes till the end starting from one\n",
    "print(d[2:-1],type(d))"
   ]
  },
  {
   "cell_type": "markdown",
   "metadata": {},
   "source": [
    "# Functions of List Objects\n",
    "## works only with homogenious list of single data type ie., integers \n",
    "- print(len(d)) # gives you the count of the list items\n",
    "- print(max(d)) # gives you the maximum of the list \n",
    "- print(min(d)) # gives you the minimum of the list \n",
    "- print(sum(d)) # gives you the sum of all the list items \n",
    "- print(sum(d)//len(d)) # gives you the \"average\" of the list\n",
    "- print(d*2) # gives you the list objects twice "
   ]
  },
  {
   "cell_type": "code",
   "execution_count": 27,
   "metadata": {},
   "outputs": [
    {
     "name": "stdout",
     "output_type": "stream",
     "text": [
      "4\n",
      "242\n",
      "35\n",
      "753\n",
      "188\n"
     ]
    }
   ],
   "source": [
    "d = [242,35,242,234,]\n",
    "print(len(d))\n",
    "print(max(d))\n",
    "print(min(d))\n",
    "print(sum(d))\n",
    "print(sum(d)//len(d))"
   ]
  },
  {
   "cell_type": "markdown",
   "metadata": {},
   "source": [
    "# Methods of List Objects\n",
    "- append() it will insert the new list item at the end of the list\n",
    "- insert(par1,par2) where par1 is the index and par2 is the list item used to insert the list object at that particular position."
   ]
  },
  {
   "cell_type": "code",
   "execution_count": 34,
   "metadata": {},
   "outputs": [
    {
     "name": "stdout",
     "output_type": "stream",
     "text": [
      "[234, 346, 457, 7857, 346, 4543]\n",
      "[234, 346, 457, 7857, 346, 4543, 45]\n"
     ]
    }
   ],
   "source": [
    "# append function\n",
    "fk = [234,346,457,7857,346]\n",
    "fk.append(4543)\n",
    "print(fk)\n",
    "fk.append(45)\n",
    "print(fk)"
   ]
  },
  {
   "cell_type": "code",
   "execution_count": 3,
   "metadata": {},
   "outputs": [
    {
     "name": "stdout",
     "output_type": "stream",
     "text": [
      "[99, 234, 45, 234, 345, 238]\n",
      "[99, 234, 45, 897, 234, 345, 238]\n"
     ]
    }
   ],
   "source": [
    "# insert function\n",
    "vk = [234,45,234,345,238]\n",
    "vk.insert(0,99)\n",
    "print(vk)\n",
    "vk.insert(3,897)\n",
    "print(vk)\n"
   ]
  },
  {
   "cell_type": "code",
   "execution_count": 3,
   "metadata": {},
   "outputs": [
    {
     "name": "stdout",
     "output_type": "stream",
     "text": [
      "3\n"
     ]
    }
   ],
   "source": [
    "# Day 09 .count is used to know the no of occurences of the object\n",
    "vs = [34,36,234,6536,23,43,656,34,456,34]\n",
    "vs.count(34)\n",
    "print(vs.count(34))"
   ]
  },
  {
   "cell_type": "code",
   "execution_count": 26,
   "metadata": {},
   "outputs": [
    {
     "name": "stdout",
     "output_type": "stream",
     "text": [
      "[65, 65, 12, 23, 34]\n"
     ]
    }
   ],
   "source": [
    "# .reverse is used to reverse the order of the list objects\n",
    "vj = [34,23,12,65,65]\n",
    "vj.reverse()\n",
    "print(vj)"
   ]
  },
  {
   "cell_type": "code",
   "execution_count": 27,
   "metadata": {},
   "outputs": [
    {
     "name": "stdout",
     "output_type": "stream",
     "text": [
      "[2, 3, 4, 6, 2, 1, 6, 4, 67, 4, 3]\n"
     ]
    }
   ],
   "source": [
    "# .sort is used to sort the list objects in acending order\n",
    "gn = [2,3,4,6,2,1,6,4,67,4,3]\n",
    "gn.sort \n",
    "print(gn)"
   ]
  },
  {
   "cell_type": "code",
   "execution_count": 29,
   "metadata": {},
   "outputs": [
    {
     "name": "stdout",
     "output_type": "stream",
     "text": [
      "[34, 234, 134, 12, 34]\n",
      "[234, 134, 12, 34]\n",
      "[234, 12, 34]\n"
     ]
    }
   ],
   "source": [
    "#.pop () will delete the last list object where as when u specify it deletes particular list object\n",
    "vds = [34,234,134,12,34,34,]\n",
    "vds.pop()\n",
    "print(vds)\n",
    "vds.pop(0)\n",
    "print(vds)\n",
    "vds.pop(1)\n",
    "print(vds)"
   ]
  },
  {
   "cell_type": "code",
   "execution_count": 33,
   "metadata": {},
   "outputs": [
    {
     "name": "stdout",
     "output_type": "stream",
     "text": [
      "[2, 6, 4, 4, 67, 7, 3, 5, 7, 7, 4, 6]\n"
     ]
    }
   ],
   "source": [
    "# .remove() this will remove the particular list object from left to right incase of similar list object \n",
    "vd = [2,4,6,4,4,67,7,3,5,7,7,4,6]\n",
    "vd.remove(4)\n",
    "print(vd)\n"
   ]
  },
  {
   "cell_type": "code",
   "execution_count": null,
   "metadata": {},
   "outputs": [],
   "source": [
    "# Day 10 "
   ]
  },
  {
   "cell_type": "markdown",
   "metadata": {},
   "source": [
    "# Binary Search\n",
    "- binary search works only on unique and sorted lists\n",
    "- this algorithum requires the search option from the middle index\n",
    "- the process of linear search includes searching one list after the other starting from lists and returns after all the listsv\n",
    "- different mid index formulas are used by the user\n",
    "- Midindex = (rightindex + leftindex)/2 might end up in a loop when the list is huge\n",
    "- Midindex = leftindex+(rightindex-leftindex)/2  mostly used by everyone"
   ]
  },
  {
   "cell_type": "code",
   "execution_count": 3,
   "metadata": {},
   "outputs": [
    {
     "output_type": "stream",
     "name": "stdout",
     "text": "not found\n"
    }
   ],
   "source": [
    "# Day 10-1 Binary search code\n",
    "def binarySearch(li,taritem):\n",
    "    leftindex,rightindex = 0, len(li) -1\n",
    "    while leftindex <= rightindex :\n",
    "        midindex = leftindex + (rightindex-leftindex)//2\n",
    "        if li[midindex] == taritem :\n",
    "            return midindex\n",
    "        if li[midindex] < taritem :\n",
    "            leftindex = midindex + 1\n",
    "        else :\n",
    "            rightindex = midindex - 1\n",
    "    return -1\n",
    "li = [1,6,11,21,25,32,45,99]\n",
    "taritem = 23\n",
    "res = binarySearch(li,taritem)\n",
    "if res != -1:\n",
    "    print('found')\n",
    "else:\n",
    "    print('not found')\n"
   ]
  },
  {
   "cell_type": "code",
   "execution_count": null,
   "metadata": {},
   "outputs": [],
   "source": [
    "# Practise\n",
    "def bs(list,tar):\n",
    "    while "
   ]
  },
  {
   "cell_type": "code",
   "execution_count": 8,
   "metadata": {},
   "outputs": [
    {
     "output_type": "stream",
     "name": "stdout",
     "text": "Hi welcome back master now you have the master control\n"
    }
   ],
   "source": [
    "var = input(\"hi whats your name ?\")\n",
    "if var == \"venkata Krishna\" :\n",
    "    print(\"Hi welcome back master now you have the master control\")\n",
    "else:\n",
    "    print(\"hi Mr.\",var,\"nice to meet you inorder to make any changes please gain admin access from venkata krishna\")"
   ]
  },
  {
   "cell_type": "code",
   "execution_count": null,
   "metadata": {},
   "outputs": [],
   "source": [
    "name = input(\"hi pleas type your name\")\n",
    "print"
   ]
  },
  {
   "cell_type": "code",
   "execution_count": null,
   "metadata": {},
   "outputs": [],
   "source": []
  }
 ],
 "metadata": {
  "kernelspec": {
   "display_name": "Python 3",
   "language": "python",
   "name": "python3"
  },
  "language_info": {
   "codemirror_mode": {
    "name": "ipython",
    "version": 3
   },
   "file_extension": ".py",
   "mimetype": "text/x-python",
   "name": "python",
   "nbconvert_exporter": "python",
   "pygments_lexer": "ipython3",
   "version": "3.7.6-final"
  }
 },
 "nbformat": 4,
 "nbformat_minor": 4
}